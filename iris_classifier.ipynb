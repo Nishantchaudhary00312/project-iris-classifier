{
 "cells": [
  {
   "cell_type": "markdown",
   "id": "80ec7bd4",
   "metadata": {},
   "source": [
    "# Import Libraries:"
   ]
  },
  {
   "cell_type": "code",
   "execution_count": 1,
   "id": "7c6662a2",
   "metadata": {},
   "outputs": [],
   "source": [
    "import pandas as pd \n",
    "import seaborn as sns \n",
    "import numpy as np \n",
    "import matplotlib.pyplot as plt\n",
    "%matplotlib inline"
   ]
  },
  {
   "cell_type": "markdown",
   "id": "2d4a381c",
   "metadata": {},
   "source": [
    "# Using Scikit-Learn for Iris classification "
   ]
  },
  {
   "cell_type": "code",
   "execution_count": 2,
   "id": "ebedf704",
   "metadata": {},
   "outputs": [],
   "source": [
    "from sklearn.datasets import load_iris\n",
    "from sklearn.model_selection import train_test_split\n",
    "from sklearn.linear_model import LogisticRegression\n",
    "from sklearn.metrics import accuracy_score"
   ]
  },
  {
   "cell_type": "markdown",
   "id": "2ee235fb",
   "metadata": {},
   "source": [
    "# Load iris dataset:"
   ]
  },
  {
   "cell_type": "code",
   "execution_count": 3,
   "id": "7f424c17",
   "metadata": {},
   "outputs": [],
   "source": [
    "iris = load_iris()\n",
    "data = iris.data\n",
    "target = iris.target"
   ]
  },
  {
   "cell_type": "code",
   "execution_count": 4,
   "id": "12118dbe",
   "metadata": {},
   "outputs": [
    {
     "name": "stdout",
     "output_type": "stream",
     "text": [
      "[0 0 0 0 0 0 0 0 0 0 0 0 0 0 0 0 0 0 0 0 0 0 0 0 0 0 0 0 0 0 0 0 0 0 0 0 0\n",
      " 0 0 0 0 0 0 0 0 0 0 0 0 0 1 1 1 1 1 1 1 1 1 1 1 1 1 1 1 1 1 1 1 1 1 1 1 1\n",
      " 1 1 1 1 1 1 1 1 1 1 1 1 1 1 1 1 1 1 1 1 1 1 1 1 1 1 2 2 2 2 2 2 2 2 2 2 2\n",
      " 2 2 2 2 2 2 2 2 2 2 2 2 2 2 2 2 2 2 2 2 2 2 2 2 2 2 2 2 2 2 2 2 2 2 2 2 2\n",
      " 2 2]\n"
     ]
    }
   ],
   "source": [
    "print(iris.target)"
   ]
  },
  {
   "cell_type": "code",
   "execution_count": 5,
   "id": "2fa67bad",
   "metadata": {},
   "outputs": [
    {
     "name": "stdout",
     "output_type": "stream",
     "text": [
      "[[5.1 3.5 1.4 0.2]\n",
      " [4.9 3.  1.4 0.2]\n",
      " [4.7 3.2 1.3 0.2]\n",
      " [4.6 3.1 1.5 0.2]\n",
      " [5.  3.6 1.4 0.2]\n",
      " [5.4 3.9 1.7 0.4]\n",
      " [4.6 3.4 1.4 0.3]\n",
      " [5.  3.4 1.5 0.2]\n",
      " [4.4 2.9 1.4 0.2]\n",
      " [4.9 3.1 1.5 0.1]\n",
      " [5.4 3.7 1.5 0.2]\n",
      " [4.8 3.4 1.6 0.2]\n",
      " [4.8 3.  1.4 0.1]\n",
      " [4.3 3.  1.1 0.1]\n",
      " [5.8 4.  1.2 0.2]\n",
      " [5.7 4.4 1.5 0.4]\n",
      " [5.4 3.9 1.3 0.4]\n",
      " [5.1 3.5 1.4 0.3]\n",
      " [5.7 3.8 1.7 0.3]\n",
      " [5.1 3.8 1.5 0.3]\n",
      " [5.4 3.4 1.7 0.2]\n",
      " [5.1 3.7 1.5 0.4]\n",
      " [4.6 3.6 1.  0.2]\n",
      " [5.1 3.3 1.7 0.5]\n",
      " [4.8 3.4 1.9 0.2]\n",
      " [5.  3.  1.6 0.2]\n",
      " [5.  3.4 1.6 0.4]\n",
      " [5.2 3.5 1.5 0.2]\n",
      " [5.2 3.4 1.4 0.2]\n",
      " [4.7 3.2 1.6 0.2]\n",
      " [4.8 3.1 1.6 0.2]\n",
      " [5.4 3.4 1.5 0.4]\n",
      " [5.2 4.1 1.5 0.1]\n",
      " [5.5 4.2 1.4 0.2]\n",
      " [4.9 3.1 1.5 0.2]\n",
      " [5.  3.2 1.2 0.2]\n",
      " [5.5 3.5 1.3 0.2]\n",
      " [4.9 3.6 1.4 0.1]\n",
      " [4.4 3.  1.3 0.2]\n",
      " [5.1 3.4 1.5 0.2]\n",
      " [5.  3.5 1.3 0.3]\n",
      " [4.5 2.3 1.3 0.3]\n",
      " [4.4 3.2 1.3 0.2]\n",
      " [5.  3.5 1.6 0.6]\n",
      " [5.1 3.8 1.9 0.4]\n",
      " [4.8 3.  1.4 0.3]\n",
      " [5.1 3.8 1.6 0.2]\n",
      " [4.6 3.2 1.4 0.2]\n",
      " [5.3 3.7 1.5 0.2]\n",
      " [5.  3.3 1.4 0.2]\n",
      " [7.  3.2 4.7 1.4]\n",
      " [6.4 3.2 4.5 1.5]\n",
      " [6.9 3.1 4.9 1.5]\n",
      " [5.5 2.3 4.  1.3]\n",
      " [6.5 2.8 4.6 1.5]\n",
      " [5.7 2.8 4.5 1.3]\n",
      " [6.3 3.3 4.7 1.6]\n",
      " [4.9 2.4 3.3 1. ]\n",
      " [6.6 2.9 4.6 1.3]\n",
      " [5.2 2.7 3.9 1.4]\n",
      " [5.  2.  3.5 1. ]\n",
      " [5.9 3.  4.2 1.5]\n",
      " [6.  2.2 4.  1. ]\n",
      " [6.1 2.9 4.7 1.4]\n",
      " [5.6 2.9 3.6 1.3]\n",
      " [6.7 3.1 4.4 1.4]\n",
      " [5.6 3.  4.5 1.5]\n",
      " [5.8 2.7 4.1 1. ]\n",
      " [6.2 2.2 4.5 1.5]\n",
      " [5.6 2.5 3.9 1.1]\n",
      " [5.9 3.2 4.8 1.8]\n",
      " [6.1 2.8 4.  1.3]\n",
      " [6.3 2.5 4.9 1.5]\n",
      " [6.1 2.8 4.7 1.2]\n",
      " [6.4 2.9 4.3 1.3]\n",
      " [6.6 3.  4.4 1.4]\n",
      " [6.8 2.8 4.8 1.4]\n",
      " [6.7 3.  5.  1.7]\n",
      " [6.  2.9 4.5 1.5]\n",
      " [5.7 2.6 3.5 1. ]\n",
      " [5.5 2.4 3.8 1.1]\n",
      " [5.5 2.4 3.7 1. ]\n",
      " [5.8 2.7 3.9 1.2]\n",
      " [6.  2.7 5.1 1.6]\n",
      " [5.4 3.  4.5 1.5]\n",
      " [6.  3.4 4.5 1.6]\n",
      " [6.7 3.1 4.7 1.5]\n",
      " [6.3 2.3 4.4 1.3]\n",
      " [5.6 3.  4.1 1.3]\n",
      " [5.5 2.5 4.  1.3]\n",
      " [5.5 2.6 4.4 1.2]\n",
      " [6.1 3.  4.6 1.4]\n",
      " [5.8 2.6 4.  1.2]\n",
      " [5.  2.3 3.3 1. ]\n",
      " [5.6 2.7 4.2 1.3]\n",
      " [5.7 3.  4.2 1.2]\n",
      " [5.7 2.9 4.2 1.3]\n",
      " [6.2 2.9 4.3 1.3]\n",
      " [5.1 2.5 3.  1.1]\n",
      " [5.7 2.8 4.1 1.3]\n",
      " [6.3 3.3 6.  2.5]\n",
      " [5.8 2.7 5.1 1.9]\n",
      " [7.1 3.  5.9 2.1]\n",
      " [6.3 2.9 5.6 1.8]\n",
      " [6.5 3.  5.8 2.2]\n",
      " [7.6 3.  6.6 2.1]\n",
      " [4.9 2.5 4.5 1.7]\n",
      " [7.3 2.9 6.3 1.8]\n",
      " [6.7 2.5 5.8 1.8]\n",
      " [7.2 3.6 6.1 2.5]\n",
      " [6.5 3.2 5.1 2. ]\n",
      " [6.4 2.7 5.3 1.9]\n",
      " [6.8 3.  5.5 2.1]\n",
      " [5.7 2.5 5.  2. ]\n",
      " [5.8 2.8 5.1 2.4]\n",
      " [6.4 3.2 5.3 2.3]\n",
      " [6.5 3.  5.5 1.8]\n",
      " [7.7 3.8 6.7 2.2]\n",
      " [7.7 2.6 6.9 2.3]\n",
      " [6.  2.2 5.  1.5]\n",
      " [6.9 3.2 5.7 2.3]\n",
      " [5.6 2.8 4.9 2. ]\n",
      " [7.7 2.8 6.7 2. ]\n",
      " [6.3 2.7 4.9 1.8]\n",
      " [6.7 3.3 5.7 2.1]\n",
      " [7.2 3.2 6.  1.8]\n",
      " [6.2 2.8 4.8 1.8]\n",
      " [6.1 3.  4.9 1.8]\n",
      " [6.4 2.8 5.6 2.1]\n",
      " [7.2 3.  5.8 1.6]\n",
      " [7.4 2.8 6.1 1.9]\n",
      " [7.9 3.8 6.4 2. ]\n",
      " [6.4 2.8 5.6 2.2]\n",
      " [6.3 2.8 5.1 1.5]\n",
      " [6.1 2.6 5.6 1.4]\n",
      " [7.7 3.  6.1 2.3]\n",
      " [6.3 3.4 5.6 2.4]\n",
      " [6.4 3.1 5.5 1.8]\n",
      " [6.  3.  4.8 1.8]\n",
      " [6.9 3.1 5.4 2.1]\n",
      " [6.7 3.1 5.6 2.4]\n",
      " [6.9 3.1 5.1 2.3]\n",
      " [5.8 2.7 5.1 1.9]\n",
      " [6.8 3.2 5.9 2.3]\n",
      " [6.7 3.3 5.7 2.5]\n",
      " [6.7 3.  5.2 2.3]\n",
      " [6.3 2.5 5.  1.9]\n",
      " [6.5 3.  5.2 2. ]\n",
      " [6.2 3.4 5.4 2.3]\n",
      " [5.9 3.  5.1 1.8]]\n"
     ]
    }
   ],
   "source": [
    "print(iris.data)"
   ]
  },
  {
   "cell_type": "markdown",
   "id": "c71bb3b1",
   "metadata": {},
   "source": [
    "# Data splitting  "
   ]
  },
  {
   "cell_type": "code",
   "execution_count": 6,
   "id": "acb5a6e3",
   "metadata": {},
   "outputs": [],
   "source": [
    "x_train,x_test,y_train,y_test = train_test_split(data,target,test_size=0.25,random_state=42)"
   ]
  },
  {
   "cell_type": "code",
   "execution_count": 7,
   "id": "d30500b1",
   "metadata": {},
   "outputs": [],
   "source": [
    "model=LogisticRegression()"
   ]
  },
  {
   "cell_type": "code",
   "execution_count": 8,
   "id": "f1840b7f",
   "metadata": {},
   "outputs": [
    {
     "name": "stderr",
     "output_type": "stream",
     "text": [
      "C:\\Users\\NISHANT\\anaconda3\\Lib\\site-packages\\sklearn\\linear_model\\_logistic.py:458: ConvergenceWarning: lbfgs failed to converge (status=1):\n",
      "STOP: TOTAL NO. of ITERATIONS REACHED LIMIT.\n",
      "\n",
      "Increase the number of iterations (max_iter) or scale the data as shown in:\n",
      "    https://scikit-learn.org/stable/modules/preprocessing.html\n",
      "Please also refer to the documentation for alternative solver options:\n",
      "    https://scikit-learn.org/stable/modules/linear_model.html#logistic-regression\n",
      "  n_iter_i = _check_optimize_result(\n"
     ]
    },
    {
     "data": {
      "text/html": [
       "<style>#sk-container-id-1 {color: black;background-color: white;}#sk-container-id-1 pre{padding: 0;}#sk-container-id-1 div.sk-toggleable {background-color: white;}#sk-container-id-1 label.sk-toggleable__label {cursor: pointer;display: block;width: 100%;margin-bottom: 0;padding: 0.3em;box-sizing: border-box;text-align: center;}#sk-container-id-1 label.sk-toggleable__label-arrow:before {content: \"▸\";float: left;margin-right: 0.25em;color: #696969;}#sk-container-id-1 label.sk-toggleable__label-arrow:hover:before {color: black;}#sk-container-id-1 div.sk-estimator:hover label.sk-toggleable__label-arrow:before {color: black;}#sk-container-id-1 div.sk-toggleable__content {max-height: 0;max-width: 0;overflow: hidden;text-align: left;background-color: #f0f8ff;}#sk-container-id-1 div.sk-toggleable__content pre {margin: 0.2em;color: black;border-radius: 0.25em;background-color: #f0f8ff;}#sk-container-id-1 input.sk-toggleable__control:checked~div.sk-toggleable__content {max-height: 200px;max-width: 100%;overflow: auto;}#sk-container-id-1 input.sk-toggleable__control:checked~label.sk-toggleable__label-arrow:before {content: \"▾\";}#sk-container-id-1 div.sk-estimator input.sk-toggleable__control:checked~label.sk-toggleable__label {background-color: #d4ebff;}#sk-container-id-1 div.sk-label input.sk-toggleable__control:checked~label.sk-toggleable__label {background-color: #d4ebff;}#sk-container-id-1 input.sk-hidden--visually {border: 0;clip: rect(1px 1px 1px 1px);clip: rect(1px, 1px, 1px, 1px);height: 1px;margin: -1px;overflow: hidden;padding: 0;position: absolute;width: 1px;}#sk-container-id-1 div.sk-estimator {font-family: monospace;background-color: #f0f8ff;border: 1px dotted black;border-radius: 0.25em;box-sizing: border-box;margin-bottom: 0.5em;}#sk-container-id-1 div.sk-estimator:hover {background-color: #d4ebff;}#sk-container-id-1 div.sk-parallel-item::after {content: \"\";width: 100%;border-bottom: 1px solid gray;flex-grow: 1;}#sk-container-id-1 div.sk-label:hover label.sk-toggleable__label {background-color: #d4ebff;}#sk-container-id-1 div.sk-serial::before {content: \"\";position: absolute;border-left: 1px solid gray;box-sizing: border-box;top: 0;bottom: 0;left: 50%;z-index: 0;}#sk-container-id-1 div.sk-serial {display: flex;flex-direction: column;align-items: center;background-color: white;padding-right: 0.2em;padding-left: 0.2em;position: relative;}#sk-container-id-1 div.sk-item {position: relative;z-index: 1;}#sk-container-id-1 div.sk-parallel {display: flex;align-items: stretch;justify-content: center;background-color: white;position: relative;}#sk-container-id-1 div.sk-item::before, #sk-container-id-1 div.sk-parallel-item::before {content: \"\";position: absolute;border-left: 1px solid gray;box-sizing: border-box;top: 0;bottom: 0;left: 50%;z-index: -1;}#sk-container-id-1 div.sk-parallel-item {display: flex;flex-direction: column;z-index: 1;position: relative;background-color: white;}#sk-container-id-1 div.sk-parallel-item:first-child::after {align-self: flex-end;width: 50%;}#sk-container-id-1 div.sk-parallel-item:last-child::after {align-self: flex-start;width: 50%;}#sk-container-id-1 div.sk-parallel-item:only-child::after {width: 0;}#sk-container-id-1 div.sk-dashed-wrapped {border: 1px dashed gray;margin: 0 0.4em 0.5em 0.4em;box-sizing: border-box;padding-bottom: 0.4em;background-color: white;}#sk-container-id-1 div.sk-label label {font-family: monospace;font-weight: bold;display: inline-block;line-height: 1.2em;}#sk-container-id-1 div.sk-label-container {text-align: center;}#sk-container-id-1 div.sk-container {/* jupyter's `normalize.less` sets `[hidden] { display: none; }` but bootstrap.min.css set `[hidden] { display: none !important; }` so we also need the `!important` here to be able to override the default hidden behavior on the sphinx rendered scikit-learn.org. See: https://github.com/scikit-learn/scikit-learn/issues/21755 */display: inline-block !important;position: relative;}#sk-container-id-1 div.sk-text-repr-fallback {display: none;}</style><div id=\"sk-container-id-1\" class=\"sk-top-container\"><div class=\"sk-text-repr-fallback\"><pre>LogisticRegression()</pre><b>In a Jupyter environment, please rerun this cell to show the HTML representation or trust the notebook. <br />On GitHub, the HTML representation is unable to render, please try loading this page with nbviewer.org.</b></div><div class=\"sk-container\" hidden><div class=\"sk-item\"><div class=\"sk-estimator sk-toggleable\"><input class=\"sk-toggleable__control sk-hidden--visually\" id=\"sk-estimator-id-1\" type=\"checkbox\" checked><label for=\"sk-estimator-id-1\" class=\"sk-toggleable__label sk-toggleable__label-arrow\">LogisticRegression</label><div class=\"sk-toggleable__content\"><pre>LogisticRegression()</pre></div></div></div></div></div>"
      ],
      "text/plain": [
       "LogisticRegression()"
      ]
     },
     "execution_count": 8,
     "metadata": {},
     "output_type": "execute_result"
    }
   ],
   "source": [
    "model.fit(x_train,y_train)"
   ]
  },
  {
   "cell_type": "code",
   "execution_count": 9,
   "id": "0eb34c0b",
   "metadata": {},
   "outputs": [
    {
     "name": "stdout",
     "output_type": "stream",
     "text": [
      "Accuracy: 1.0\n"
     ]
    }
   ],
   "source": [
    "y_pred = model.predict(x_test)\n",
    "accuracy =accuracy_score(y_test,y_pred)\n",
    "print(\"Accuracy:\",accuracy)"
   ]
  },
  {
   "cell_type": "markdown",
   "id": "eba46360",
   "metadata": {},
   "source": [
    "# Using Tensorflow for Iris classification "
   ]
  },
  {
   "cell_type": "code",
   "execution_count": 10,
   "id": "fab72ab7",
   "metadata": {},
   "outputs": [],
   "source": [
    "import tensorflow as tf\n",
    "from tensorflow import keras\n",
    "from sklearn.datasets import load_iris\n",
    "from sklearn.model_selection import train_test_split\n",
    "from sklearn.preprocessing import StandardScaler"
   ]
  },
  {
   "cell_type": "code",
   "execution_count": 11,
   "id": "294239d1",
   "metadata": {},
   "outputs": [],
   "source": [
    "scaler = StandardScaler()\n",
    "x_train_scaled = scaler.fit_transform(x_train)\n",
    "x_test_scaled = scaler.transform(x_test)"
   ]
  },
  {
   "cell_type": "code",
   "execution_count": 12,
   "id": "cd91f6ac",
   "metadata": {},
   "outputs": [],
   "source": [
    "model = tf.keras.Sequential([\n",
    "    tf.keras.layers.Input(shape=(x_train_scaled.shape[1],)),\n",
    "    tf.keras.layers.Dense(1, activation='sigmoid')\n",
    "])"
   ]
  },
  {
   "cell_type": "code",
   "execution_count": 13,
   "id": "929d5afc",
   "metadata": {},
   "outputs": [],
   "source": [
    "model.compile(optimizer='adam',\n",
    "              loss='binary_crossentropy',\n",
    "              metrics=['accuracy'])"
   ]
  },
  {
   "cell_type": "code",
   "execution_count": 14,
   "id": "3d121a52",
   "metadata": {},
   "outputs": [
    {
     "name": "stdout",
     "output_type": "stream",
     "text": [
      "Epoch 1/100\n",
      "4/4 - 0s - loss: 0.6487 - accuracy: 0.2946 - 489ms/epoch - 122ms/step\n",
      "Epoch 2/100\n",
      "4/4 - 0s - loss: 0.6373 - accuracy: 0.3036 - 5ms/epoch - 1ms/step\n",
      "Epoch 3/100\n",
      "4/4 - 0s - loss: 0.6260 - accuracy: 0.3125 - 14ms/epoch - 3ms/step\n",
      "Epoch 4/100\n",
      "4/4 - 0s - loss: 0.6148 - accuracy: 0.3304 - 18ms/epoch - 4ms/step\n",
      "Epoch 5/100\n",
      "4/4 - 0s - loss: 0.6032 - accuracy: 0.3304 - 17ms/epoch - 4ms/step\n",
      "Epoch 6/100\n",
      "4/4 - 0s - loss: 0.5919 - accuracy: 0.3482 - 17ms/epoch - 4ms/step\n",
      "Epoch 7/100\n",
      "4/4 - 0s - loss: 0.5810 - accuracy: 0.3482 - 10ms/epoch - 3ms/step\n",
      "Epoch 8/100\n",
      "4/4 - 0s - loss: 0.5694 - accuracy: 0.3661 - 15ms/epoch - 4ms/step\n",
      "Epoch 9/100\n",
      "4/4 - 0s - loss: 0.5588 - accuracy: 0.3839 - 12ms/epoch - 3ms/step\n",
      "Epoch 10/100\n",
      "4/4 - 0s - loss: 0.5471 - accuracy: 0.4018 - 8ms/epoch - 2ms/step\n",
      "Epoch 11/100\n",
      "4/4 - 0s - loss: 0.5360 - accuracy: 0.4018 - 8ms/epoch - 2ms/step\n",
      "Epoch 12/100\n",
      "4/4 - 0s - loss: 0.5252 - accuracy: 0.4107 - 15ms/epoch - 4ms/step\n",
      "Epoch 13/100\n",
      "4/4 - 0s - loss: 0.5142 - accuracy: 0.4196 - 0s/epoch - 0s/step\n",
      "Epoch 14/100\n",
      "4/4 - 0s - loss: 0.5034 - accuracy: 0.4286 - 3ms/epoch - 865us/step\n",
      "Epoch 15/100\n",
      "4/4 - 0s - loss: 0.4925 - accuracy: 0.4464 - 17ms/epoch - 4ms/step\n",
      "Epoch 16/100\n",
      "4/4 - 0s - loss: 0.4816 - accuracy: 0.4554 - 17ms/epoch - 4ms/step\n",
      "Epoch 17/100\n",
      "4/4 - 0s - loss: 0.4713 - accuracy: 0.4643 - 17ms/epoch - 4ms/step\n",
      "Epoch 18/100\n",
      "4/4 - 0s - loss: 0.4605 - accuracy: 0.4911 - 13ms/epoch - 3ms/step\n",
      "Epoch 19/100\n",
      "4/4 - 0s - loss: 0.4501 - accuracy: 0.4911 - 12ms/epoch - 3ms/step\n",
      "Epoch 20/100\n",
      "4/4 - 0s - loss: 0.4399 - accuracy: 0.4911 - 11ms/epoch - 3ms/step\n",
      "Epoch 21/100\n",
      "4/4 - 0s - loss: 0.4293 - accuracy: 0.5000 - 15ms/epoch - 4ms/step\n",
      "Epoch 22/100\n",
      "4/4 - 0s - loss: 0.4193 - accuracy: 0.5179 - 5ms/epoch - 1ms/step\n",
      "Epoch 23/100\n",
      "4/4 - 0s - loss: 0.4087 - accuracy: 0.5179 - 17ms/epoch - 4ms/step\n",
      "Epoch 24/100\n",
      "4/4 - 0s - loss: 0.3983 - accuracy: 0.5179 - 15ms/epoch - 4ms/step\n",
      "Epoch 25/100\n",
      "4/4 - 0s - loss: 0.3883 - accuracy: 0.5179 - 16ms/epoch - 4ms/step\n",
      "Epoch 26/100\n",
      "4/4 - 0s - loss: 0.3781 - accuracy: 0.5179 - 14ms/epoch - 4ms/step\n",
      "Epoch 27/100\n",
      "4/4 - 0s - loss: 0.3681 - accuracy: 0.5357 - 0s/epoch - 0s/step\n",
      "Epoch 28/100\n",
      "4/4 - 0s - loss: 0.3584 - accuracy: 0.5446 - 3ms/epoch - 866us/step\n",
      "Epoch 29/100\n",
      "4/4 - 0s - loss: 0.3485 - accuracy: 0.5536 - 17ms/epoch - 4ms/step\n",
      "Epoch 30/100\n",
      "4/4 - 0s - loss: 0.3389 - accuracy: 0.5536 - 17ms/epoch - 4ms/step\n",
      "Epoch 31/100\n",
      "4/4 - 0s - loss: 0.3290 - accuracy: 0.5714 - 19ms/epoch - 5ms/step\n",
      "Epoch 32/100\n",
      "4/4 - 0s - loss: 0.3199 - accuracy: 0.5714 - 10ms/epoch - 2ms/step\n",
      "Epoch 33/100\n",
      "4/4 - 0s - loss: 0.3100 - accuracy: 0.5714 - 16ms/epoch - 4ms/step\n",
      "Epoch 34/100\n",
      "4/4 - 0s - loss: 0.3004 - accuracy: 0.5714 - 12ms/epoch - 3ms/step\n",
      "Epoch 35/100\n",
      "4/4 - 0s - loss: 0.2912 - accuracy: 0.5714 - 9ms/epoch - 2ms/step\n",
      "Epoch 36/100\n",
      "4/4 - 0s - loss: 0.2819 - accuracy: 0.5714 - 13ms/epoch - 3ms/step\n",
      "Epoch 37/100\n",
      "4/4 - 0s - loss: 0.2723 - accuracy: 0.5714 - 14ms/epoch - 4ms/step\n",
      "Epoch 38/100\n",
      "4/4 - 0s - loss: 0.2629 - accuracy: 0.5714 - 12ms/epoch - 3ms/step\n",
      "Epoch 39/100\n",
      "4/4 - 0s - loss: 0.2537 - accuracy: 0.5714 - 14ms/epoch - 4ms/step\n",
      "Epoch 40/100\n",
      "4/4 - 0s - loss: 0.2442 - accuracy: 0.5714 - 8ms/epoch - 2ms/step\n",
      "Epoch 41/100\n",
      "4/4 - 0s - loss: 0.2351 - accuracy: 0.5714 - 18ms/epoch - 4ms/step\n",
      "Epoch 42/100\n",
      "4/4 - 0s - loss: 0.2259 - accuracy: 0.5714 - 7ms/epoch - 2ms/step\n",
      "Epoch 43/100\n",
      "4/4 - 0s - loss: 0.2167 - accuracy: 0.5714 - 8ms/epoch - 2ms/step\n",
      "Epoch 44/100\n",
      "4/4 - 0s - loss: 0.2073 - accuracy: 0.5714 - 17ms/epoch - 4ms/step\n",
      "Epoch 45/100\n",
      "4/4 - 0s - loss: 0.1982 - accuracy: 0.5804 - 5ms/epoch - 1ms/step\n",
      "Epoch 46/100\n",
      "4/4 - 0s - loss: 0.1893 - accuracy: 0.5804 - 11ms/epoch - 3ms/step\n",
      "Epoch 47/100\n",
      "4/4 - 0s - loss: 0.1801 - accuracy: 0.5804 - 10ms/epoch - 2ms/step\n",
      "Epoch 48/100\n",
      "4/4 - 0s - loss: 0.1714 - accuracy: 0.5982 - 11ms/epoch - 3ms/step\n",
      "Epoch 49/100\n",
      "4/4 - 0s - loss: 0.1623 - accuracy: 0.5982 - 17ms/epoch - 4ms/step\n",
      "Epoch 50/100\n",
      "4/4 - 0s - loss: 0.1534 - accuracy: 0.5982 - 16ms/epoch - 4ms/step\n",
      "Epoch 51/100\n",
      "4/4 - 0s - loss: 0.1450 - accuracy: 0.5982 - 14ms/epoch - 3ms/step\n",
      "Epoch 52/100\n",
      "4/4 - 0s - loss: 0.1365 - accuracy: 0.5982 - 12ms/epoch - 3ms/step\n",
      "Epoch 53/100\n",
      "4/4 - 0s - loss: 0.1277 - accuracy: 0.5982 - 1ms/epoch - 251us/step\n",
      "Epoch 54/100\n",
      "4/4 - 0s - loss: 0.1192 - accuracy: 0.6071 - 12ms/epoch - 3ms/step\n",
      "Epoch 55/100\n",
      "4/4 - 0s - loss: 0.1103 - accuracy: 0.6071 - 3ms/epoch - 868us/step\n",
      "Epoch 56/100\n",
      "4/4 - 0s - loss: 0.1017 - accuracy: 0.6071 - 17ms/epoch - 4ms/step\n",
      "Epoch 57/100\n",
      "4/4 - 0s - loss: 0.0935 - accuracy: 0.6071 - 8ms/epoch - 2ms/step\n",
      "Epoch 58/100\n",
      "4/4 - 0s - loss: 0.0849 - accuracy: 0.6071 - 13ms/epoch - 3ms/step\n",
      "Epoch 59/100\n",
      "4/4 - 0s - loss: 0.0764 - accuracy: 0.6161 - 9ms/epoch - 2ms/step\n",
      "Epoch 60/100\n",
      "4/4 - 0s - loss: 0.0684 - accuracy: 0.6161 - 9ms/epoch - 2ms/step\n",
      "Epoch 61/100\n",
      "4/4 - 0s - loss: 0.0596 - accuracy: 0.6161 - 15ms/epoch - 4ms/step\n",
      "Epoch 62/100\n",
      "4/4 - 0s - loss: 0.0519 - accuracy: 0.6161 - 10ms/epoch - 2ms/step\n",
      "Epoch 63/100\n",
      "4/4 - 0s - loss: 0.0433 - accuracy: 0.6161 - 0s/epoch - 0s/step\n",
      "Epoch 64/100\n",
      "4/4 - 0s - loss: 0.0353 - accuracy: 0.6161 - 23ms/epoch - 6ms/step\n",
      "Epoch 65/100\n",
      "4/4 - 0s - loss: 0.0269 - accuracy: 0.6161 - 11ms/epoch - 3ms/step\n",
      "Epoch 66/100\n",
      "4/4 - 0s - loss: 0.0191 - accuracy: 0.6161 - 0s/epoch - 0s/step\n",
      "Epoch 67/100\n",
      "4/4 - 0s - loss: 0.0107 - accuracy: 0.6250 - 0s/epoch - 0s/step\n",
      "Epoch 68/100\n",
      "4/4 - 0s - loss: 0.0028 - accuracy: 0.6250 - 24ms/epoch - 6ms/step\n",
      "Epoch 69/100\n",
      "4/4 - 0s - loss: -5.3682e-03 - accuracy: 0.6250 - 13ms/epoch - 3ms/step\n",
      "Epoch 70/100\n",
      "4/4 - 0s - loss: -1.3097e-02 - accuracy: 0.6250 - 11ms/epoch - 3ms/step\n",
      "Epoch 71/100\n",
      "4/4 - 0s - loss: -2.1019e-02 - accuracy: 0.6250 - 10ms/epoch - 2ms/step\n",
      "Epoch 72/100\n",
      "4/4 - 0s - loss: -2.9139e-02 - accuracy: 0.6250 - 10ms/epoch - 2ms/step\n",
      "Epoch 73/100\n",
      "4/4 - 0s - loss: -3.6715e-02 - accuracy: 0.6250 - 14ms/epoch - 3ms/step\n",
      "Epoch 74/100\n",
      "4/4 - 0s - loss: -4.4288e-02 - accuracy: 0.6250 - 15ms/epoch - 4ms/step\n",
      "Epoch 75/100\n",
      "4/4 - 0s - loss: -5.2241e-02 - accuracy: 0.6250 - 0s/epoch - 0s/step\n",
      "Epoch 76/100\n",
      "4/4 - 0s - loss: -6.0291e-02 - accuracy: 0.6250 - 17ms/epoch - 4ms/step\n",
      "Epoch 77/100\n",
      "4/4 - 0s - loss: -6.7738e-02 - accuracy: 0.6250 - 18ms/epoch - 5ms/step\n",
      "Epoch 78/100\n",
      "4/4 - 0s - loss: -7.5313e-02 - accuracy: 0.6250 - 12ms/epoch - 3ms/step\n",
      "Epoch 79/100\n",
      "4/4 - 0s - loss: -8.3104e-02 - accuracy: 0.6250 - 0s/epoch - 0s/step\n",
      "Epoch 80/100\n",
      "4/4 - 0s - loss: -9.0636e-02 - accuracy: 0.6250 - 5ms/epoch - 1ms/step\n",
      "Epoch 81/100\n",
      "4/4 - 0s - loss: -9.8325e-02 - accuracy: 0.6250 - 16ms/epoch - 4ms/step\n",
      "Epoch 82/100\n",
      "4/4 - 0s - loss: -1.0583e-01 - accuracy: 0.6250 - 11ms/epoch - 3ms/step\n",
      "Epoch 83/100\n",
      "4/4 - 0s - loss: -1.1353e-01 - accuracy: 0.6250 - 10ms/epoch - 3ms/step\n",
      "Epoch 84/100\n",
      "4/4 - 0s - loss: -1.2106e-01 - accuracy: 0.6250 - 12ms/epoch - 3ms/step\n",
      "Epoch 85/100\n",
      "4/4 - 0s - loss: -1.2850e-01 - accuracy: 0.6250 - 12ms/epoch - 3ms/step\n",
      "Epoch 86/100\n",
      "4/4 - 0s - loss: -1.3609e-01 - accuracy: 0.6250 - 0s/epoch - 0s/step\n",
      "Epoch 87/100\n",
      "4/4 - 0s - loss: -1.4351e-01 - accuracy: 0.6250 - 7ms/epoch - 2ms/step\n",
      "Epoch 88/100\n",
      "4/4 - 0s - loss: -1.5076e-01 - accuracy: 0.6250 - 2ms/epoch - 624us/step\n",
      "Epoch 89/100\n",
      "4/4 - 0s - loss: -1.5840e-01 - accuracy: 0.6250 - 16ms/epoch - 4ms/step\n",
      "Epoch 90/100\n",
      "4/4 - 0s - loss: -1.6564e-01 - accuracy: 0.6250 - 21ms/epoch - 5ms/step\n",
      "Epoch 91/100\n",
      "4/4 - 0s - loss: -1.7280e-01 - accuracy: 0.6250 - 6ms/epoch - 2ms/step\n",
      "Epoch 92/100\n",
      "4/4 - 0s - loss: -1.8000e-01 - accuracy: 0.6250 - 0s/epoch - 0s/step\n",
      "Epoch 93/100\n",
      "4/4 - 0s - loss: -1.8715e-01 - accuracy: 0.6250 - 5ms/epoch - 1ms/step\n",
      "Epoch 94/100\n",
      "4/4 - 0s - loss: -1.9423e-01 - accuracy: 0.6250 - 15ms/epoch - 4ms/step\n",
      "Epoch 95/100\n",
      "4/4 - 0s - loss: -2.0123e-01 - accuracy: 0.6250 - 10ms/epoch - 2ms/step\n",
      "Epoch 96/100\n",
      "4/4 - 0s - loss: -2.0834e-01 - accuracy: 0.6250 - 16ms/epoch - 4ms/step\n",
      "Epoch 97/100\n",
      "4/4 - 0s - loss: -2.1563e-01 - accuracy: 0.6250 - 8ms/epoch - 2ms/step\n",
      "Epoch 98/100\n",
      "4/4 - 0s - loss: -2.2277e-01 - accuracy: 0.6250 - 15ms/epoch - 4ms/step\n",
      "Epoch 99/100\n",
      "4/4 - 0s - loss: -2.2953e-01 - accuracy: 0.6250 - 18ms/epoch - 5ms/step\n",
      "Epoch 100/100\n",
      "4/4 - 0s - loss: -2.3667e-01 - accuracy: 0.6250 - 13ms/epoch - 3ms/step\n"
     ]
    },
    {
     "data": {
      "text/plain": [
       "<keras.src.callbacks.History at 0x1f44ba83bd0>"
      ]
     },
     "execution_count": 14,
     "metadata": {},
     "output_type": "execute_result"
    }
   ],
   "source": [
    "model.fit(x_train_scaled, y_train, epochs=100, batch_size=32, verbose=2)"
   ]
  },
  {
   "cell_type": "code",
   "execution_count": 15,
   "id": "fced0b8e",
   "metadata": {},
   "outputs": [
    {
     "name": "stdout",
     "output_type": "stream",
     "text": [
      "Test Accuracy: 0.6842105388641357\n"
     ]
    }
   ],
   "source": [
    "loss, accuracy = model.evaluate(x_test_scaled, y_test, verbose=0)\n",
    "print(\"Test Accuracy:\", accuracy)"
   ]
  }
 ],
 "metadata": {
  "kernelspec": {
   "display_name": "Python 3 (ipykernel)",
   "language": "python",
   "name": "python3"
  },
  "language_info": {
   "codemirror_mode": {
    "name": "ipython",
    "version": 3
   },
   "file_extension": ".py",
   "mimetype": "text/x-python",
   "name": "python",
   "nbconvert_exporter": "python",
   "pygments_lexer": "ipython3",
   "version": "3.11.3"
  }
 },
 "nbformat": 4,
 "nbformat_minor": 5
}
